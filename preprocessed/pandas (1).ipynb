{
 "cells": [
  {
   "cell_type": "markdown",
   "metadata": {
    "id": "2pD-7rvhAICE"
   },
   "source": [
    "<img src = \"https://datasciencebocconi.github.io/Images/Other/logoBocconi.png\">"
   ]
  },
  {
   "cell_type": "markdown",
   "metadata": {
    "ein.tags": "worksheet-0",
    "id": "_Ef09WA5AICE"
   },
   "source": [
    "## Numpy: NUMerical PYthon \n",
    "\n",
    "\n",
    "\n",
    "This is Python's stack for scientific computing. The fundamental new data type is that of a **numpy array**, Python's matrix(tensor)-type object, which is used in the majority of Python's modules for Data Analysis, Statistics and Machine Learning  - for example in order to feed data into `sklearn` functions\n",
    "\n",
    "numpy arrays contain data all of the same type (*dtype*), numerical of many types or boolean\n",
    "\n",
    "The coordinates are known as axes"
   ]
  },
  {
   "cell_type": "code",
   "execution_count": null,
   "metadata": {
    "autoscroll": false,
    "ein.hycell": false,
    "ein.tags": "worksheet-0",
    "executionInfo": {
     "elapsed": 858,
     "status": "ok",
     "timestamp": 1606738985882,
     "user": {
      "displayName": "Joan Verdú",
      "photoUrl": "https://lh3.googleusercontent.com/a-/AOh14Ghq6Zm9ACo3kD6kZhp6ZuWkYJqG_DQfPoIV1Ues=s64",
      "userId": "17893353067607712705"
     },
     "user_tz": -60
    },
    "id": "UDAqR_qXAICE"
   },
   "outputs": [],
   "source": [
    "# import module \n",
    "import numpy as np"
   ]
  },
  {
   "cell_type": "markdown",
   "metadata": {
    "ein.tags": "worksheet-0",
    "id": "hjo33hHhAICE"
   },
   "source": [
    "To create an array we use the np.array() function"
   ]
  },
  {
   "cell_type": "code",
   "execution_count": null,
   "metadata": {
    "autoscroll": false,
    "ein.hycell": false,
    "ein.tags": "worksheet-0",
    "executionInfo": {
     "elapsed": 1174,
     "status": "ok",
     "timestamp": 1606738986205,
     "user": {
      "displayName": "Joan Verdú",
      "photoUrl": "https://lh3.googleusercontent.com/a-/AOh14Ghq6Zm9ACo3kD6kZhp6ZuWkYJqG_DQfPoIV1Ues=s64",
      "userId": "17893353067607712705"
     },
     "user_tz": -60
    },
    "id": "Y7-MUS89AICE"
   },
   "outputs": [],
   "source": [
    "# creating an array\n",
    "a = np.array([[1, 2, 3, 4, 5, 6], \n",
    "              [42, 53, 43 ,62, 7, 4], \n",
    "              [-3, -1, -4 ,-8, -52, -4], \n",
    "              [10, 0, 4 , 1, 0, 1]])"
   ]
  },
  {
   "cell_type": "markdown",
   "metadata": {
    "ein.tags": "worksheet-0",
    "id": "dqdEhcalAICE"
   },
   "source": [
    "We can access the elements in an array using multi-index notation, familiar in small variations in many computing environments and languages - with the usual Pythonic conventions, e.g., counting starts from 0, slicing a:b is inclusive:exclusive, negative indices, etc\n",
    "\n",
    "What do you think the following piece of code does? \n",
    "\n",
    "```python\n",
    "print(a[-2:,[2,4]])\n",
    "```"
   ]
  },
  {
   "cell_type": "markdown",
   "metadata": {
    "ein.tags": "worksheet-0",
    "id": "F7KUq_Y6AICE"
   },
   "source": [
    "### Array attributes\n",
    "\n",
    "The array data type has its own attributes. Some worth highlighting are:\n",
    "\n",
    "+ Shape\n",
    "```python\n",
    "arrayname.shape # returns the shape as tuple, e.g. (4,6)\n",
    "arrayname.reshape(arg) # returns a new array with the same data as those in arrayname but organized in different shape - read carefully defaults\n",
    "```\n",
    "+ Aggregations\n",
    "```python\n",
    "arrayname.function(arg) # e.g. function could be sum, max, min, etc. args can be used to specify operation over all elements, or for an axis, etc  - this is much more efficient than looping\n",
    "```\n",
    "+ Linear algebra\n",
    "```python\n",
    "arrayname.transpose(arg)  # transpose - even for multi-d arrays\n",
    "arrayname.diagonal(arg) # diagonal elements as array\n",
    "arrayname.dot(anotherarray) # dot product\n",
    "```\n"
   ]
  },
  {
   "cell_type": "markdown",
   "metadata": {},
   "source": [
    "#### Exercise 1\n",
    "\n",
    "Create two arrays, the first contains the row sums and the second the column sums of a "
   ]
  },
  {
   "cell_type": "code",
   "execution_count": null,
   "metadata": {},
   "outputs": [],
   "source": [
    "#Solution\n",
    "\n"
   ]
  },
  {
   "cell_type": "markdown",
   "metadata": {
    "ein.tags": "worksheet-0",
    "id": "u9_u9sQyAICE"
   },
   "source": [
    "## Array operations\n",
    "\n",
    "Remember that to concatenate two lists in Python, we could use the \"+\" operator. \n",
    "\n",
    "This is not the case in Numpy!\n",
    "\n",
    "Mathematical symbols take on mathematical meanings in Numpy. Thus, the \"+\" operator between two Numpy Arrays actually just attempts to add them together, elementwise."
   ]
  },
  {
   "cell_type": "code",
   "execution_count": null,
   "metadata": {
    "autoscroll": false,
    "colab": {
     "base_uri": "https://localhost:8080/"
    },
    "ein.hycell": false,
    "ein.tags": "worksheet-0",
    "executionInfo": {
     "elapsed": 1170,
     "status": "ok",
     "timestamp": 1606738986206,
     "user": {
      "displayName": "Joan Verdú",
      "photoUrl": "https://lh3.googleusercontent.com/a-/AOh14Ghq6Zm9ACo3kD6kZhp6ZuWkYJqG_DQfPoIV1Ues=s64",
      "userId": "17893353067607712705"
     },
     "user_tz": -60
    },
    "id": "wOXsvSjMAICE",
    "outputId": "e498cfa4-2964-4634-e0d3-c92627bbabf6"
   },
   "outputs": [],
   "source": [
    "# Numpy array addition: \n",
    "\n",
    "a,b = np.array([1,2,3]), np.array([4,5,6])\n",
    "a + b"
   ]
  },
  {
   "cell_type": "code",
   "execution_count": null,
   "metadata": {
    "autoscroll": false,
    "colab": {
     "base_uri": "https://localhost:8080/"
    },
    "ein.hycell": false,
    "ein.tags": "worksheet-0",
    "executionInfo": {
     "elapsed": 1163,
     "status": "ok",
     "timestamp": 1606738986206,
     "user": {
      "displayName": "Joan Verdú",
      "photoUrl": "https://lh3.googleusercontent.com/a-/AOh14Ghq6Zm9ACo3kD6kZhp6ZuWkYJqG_DQfPoIV1Ues=s64",
      "userId": "17893353067607712705"
     },
     "user_tz": -60
    },
    "id": "mvD0qRlCAICF",
    "outputId": "3760c556-aef1-4471-f2a0-b72cd45553c0"
   },
   "outputs": [],
   "source": [
    "# Numpy array concatenation: \n",
    "\n",
    "np.concatenate([a,b])"
   ]
  },
  {
   "cell_type": "markdown",
   "metadata": {
    "ein.tags": "worksheet-0",
    "id": "7iNtWCUgAICF"
   },
   "source": [
    "# Data analysis with Python: PANDAS\n",
    "\n",
    "PANDAS: Panel Data Structures \n",
    "\n",
    "This is the module in Python for doing rectangular-data management, analysis and plotting.\n",
    "\n",
    "The first set of tools are to read and write. "
   ]
  },
  {
   "cell_type": "markdown",
   "metadata": {
    "ein.tags": "worksheet-0",
    "id": "vVha0XCiAICF"
   },
   "source": [
    "## Loading data into Python \n",
    "\n",
    "See [IO DOC](https://pandas.pydata.org/pandas-docs/stable/io.html) in Python for more information\n",
    "\n",
    "Lets load our first dataset (and load all we need to get working!)"
   ]
  },
  {
   "cell_type": "code",
   "execution_count": null,
   "metadata": {
    "autoscroll": false,
    "colab": {
     "base_uri": "https://localhost:8080/",
     "height": 202
    },
    "ein.hycell": false,
    "ein.tags": "worksheet-0",
    "executionInfo": {
     "elapsed": 1474,
     "status": "ok",
     "timestamp": 1606738986523,
     "user": {
      "displayName": "Joan Verdú",
      "photoUrl": "https://lh3.googleusercontent.com/a-/AOh14Ghq6Zm9ACo3kD6kZhp6ZuWkYJqG_DQfPoIV1Ues=s64",
      "userId": "17893353067607712705"
     },
     "user_tz": -60
    },
    "id": "hk61AX3bAICF",
    "outputId": "bb0df769-d615-4edf-8068-ac501409bde7"
   },
   "outputs": [],
   "source": [
    "import pandas as pd\n",
    "\n",
    "# load a dataframe from disk\n",
    "# if loading from URL\n",
    "\n",
    "tips = pd.read_csv(\"https://datasciencebocconi.github.io/Data/tips.csv\")\n",
    "\n",
    "tips.head(5)"
   ]
  },
  {
   "cell_type": "markdown",
   "metadata": {
    "ein.tags": "worksheet-0",
    "id": "2ucLnxRkAICF"
   },
   "source": [
    "## Series and DataFrame\n",
    "\n",
    "These are the two basic data formats in PANDAS, the equivalent of column and rectangular data structures, as in linear algebra (vector/matrix) but equipped with several attributes invaluable for data management and analysis\n",
    "\n",
    "In the *tips* example, the variable \"tips\" is a DataFrame, while any individual column would be a Series. \n",
    "\n"
   ]
  },
  {
   "cell_type": "markdown",
   "metadata": {
    "ein.tags": "worksheet-0",
    "id": "cIYcrFfsAICF"
   },
   "source": [
    "## Series \n",
    "\n",
    "This is a 1-d data structure with *values* accessed via their index. \n",
    "\n",
    "Unlike in raw Python or Numpy, however, Series indices can be made up of either: \n",
    "+ *numbers*: which could be ordered and contiguous like a Python list, but don't have to be! \n",
    "+ *strings*: essentially labels, like the keys in a dictionary\n",
    "\n",
    "Although typically a series is obtained by reading a dataset from an external file or when doing operations on dataframes, we can still define one manually by specifying the values and the indices. \n",
    "\n",
    "Let's do this an get an insight into how it works"
   ]
  },
  {
   "cell_type": "code",
   "execution_count": null,
   "metadata": {
    "autoscroll": false,
    "ein.hycell": false,
    "ein.tags": "worksheet-0",
    "executionInfo": {
     "elapsed": 1468,
     "status": "ok",
     "timestamp": 1606738986523,
     "user": {
      "displayName": "Joan Verdú",
      "photoUrl": "https://lh3.googleusercontent.com/a-/AOh14Ghq6Zm9ACo3kD6kZhp6ZuWkYJqG_DQfPoIV1Ues=s64",
      "userId": "17893353067607712705"
     },
     "user_tz": -60
    },
    "id": "v2ATw_kSAICF"
   },
   "outputs": [],
   "source": [
    "# here no indices are specified, there are defaults\n",
    "my_series = pd.Series([1, 15, -5, None, 4, 123, 3, 78, 0, 5, -4])"
   ]
  },
  {
   "cell_type": "code",
   "execution_count": null,
   "metadata": {
    "autoscroll": false,
    "colab": {
     "base_uri": "https://localhost:8080/"
    },
    "ein.hycell": false,
    "ein.tags": "worksheet-0",
    "executionInfo": {
     "elapsed": 1464,
     "status": "ok",
     "timestamp": 1606738986525,
     "user": {
      "displayName": "Joan Verdú",
      "photoUrl": "https://lh3.googleusercontent.com/a-/AOh14Ghq6Zm9ACo3kD6kZhp6ZuWkYJqG_DQfPoIV1Ues=s64",
      "userId": "17893353067607712705"
     },
     "user_tz": -60
    },
    "id": "OO_kXKwNAICF",
    "outputId": "f86ccd06-fbcc-415a-d40a-519dcda5a5c5"
   },
   "outputs": [],
   "source": [
    "# Accessing a certain value via the index\n",
    "\n",
    "my_series[0]"
   ]
  },
  {
   "cell_type": "code",
   "execution_count": null,
   "metadata": {
    "autoscroll": false,
    "colab": {
     "base_uri": "https://localhost:8080/"
    },
    "ein.hycell": false,
    "ein.tags": "worksheet-0",
    "executionInfo": {
     "elapsed": 1457,
     "status": "ok",
     "timestamp": 1606738986525,
     "user": {
      "displayName": "Joan Verdú",
      "photoUrl": "https://lh3.googleusercontent.com/a-/AOh14Ghq6Zm9ACo3kD6kZhp6ZuWkYJqG_DQfPoIV1Ues=s64",
      "userId": "17893353067607712705"
     },
     "user_tz": -60
    },
    "id": "ijklByRAAICF",
    "outputId": "16f6ffde-e5a6-4523-a301-82a974e880ec"
   },
   "outputs": [],
   "source": [
    "# Note that there are a bunch of attributes.\n",
    "# .values returns a numpy ndarray of the values! \n",
    "\n",
    "my_series.values"
   ]
  },
  {
   "cell_type": "code",
   "execution_count": null,
   "metadata": {
    "autoscroll": false,
    "colab": {
     "base_uri": "https://localhost:8080/"
    },
    "ein.hycell": false,
    "ein.tags": "worksheet-0",
    "executionInfo": {
     "elapsed": 1451,
     "status": "ok",
     "timestamp": 1606738986526,
     "user": {
      "displayName": "Joan Verdú",
      "photoUrl": "https://lh3.googleusercontent.com/a-/AOh14Ghq6Zm9ACo3kD6kZhp6ZuWkYJqG_DQfPoIV1Ues=s64",
      "userId": "17893353067607712705"
     },
     "user_tz": -60
    },
    "id": "oVxCnZ4sAICF",
    "outputId": "06d6bb83-7614-4426-f530-a8f96d5fbbea"
   },
   "outputs": [],
   "source": [
    "# Take a look at the index. What type is it? \n",
    "# You convert it to a numpy ndarray by adding \".values\" again!\n",
    "\n",
    "my_series.index"
   ]
  },
  {
   "cell_type": "code",
   "execution_count": null,
   "metadata": {
    "autoscroll": false,
    "colab": {
     "base_uri": "https://localhost:8080/"
    },
    "ein.hycell": false,
    "ein.tags": "worksheet-0",
    "executionInfo": {
     "elapsed": 1445,
     "status": "ok",
     "timestamp": 1606738986526,
     "user": {
      "displayName": "Joan Verdú",
      "photoUrl": "https://lh3.googleusercontent.com/a-/AOh14Ghq6Zm9ACo3kD6kZhp6ZuWkYJqG_DQfPoIV1Ues=s64",
      "userId": "17893353067607712705"
     },
     "user_tz": -60
    },
    "id": "0bhQL05CAICF",
    "outputId": "f4ee4fc6-6077-4387-8a5e-db483b7c2986"
   },
   "outputs": [],
   "source": [
    "# You can overwrite the index directly: \n",
    "\n",
    "my_series.index = [\"om\",\"ir\",\"os\",\"pap\",\"pas\",\"pil\",\"o\",\"po\",\"ulos\",\"is\",\"best\"]\n",
    "\n",
    "my_series"
   ]
  },
  {
   "cell_type": "code",
   "execution_count": null,
   "metadata": {},
   "outputs": [],
   "source": [
    "# We can access the series values via their name\n",
    "\n",
    "my_series[\"om\"]"
   ]
  },
  {
   "cell_type": "markdown",
   "metadata": {
    "ein.tags": "worksheet-0",
    "id": "2NSCIvnUAICF"
   },
   "source": [
    "## iloc\n",
    "\n",
    "Accessing values via the index can be very useful, but sometimes you want to access the values as though they were a Python list. In other words \"I want the first value!\", without having to know the name of the label. \n",
    "\n",
    "This can be achieved with .iloc: \n",
    "\n",
    "```python\n",
    "my_series.iloc[0]\n",
    "```"
   ]
  },
  {
   "cell_type": "code",
   "execution_count": null,
   "metadata": {
    "autoscroll": false,
    "colab": {
     "base_uri": "https://localhost:8080/"
    },
    "ein.hycell": false,
    "ein.tags": "worksheet-0",
    "executionInfo": {
     "elapsed": 1437,
     "status": "ok",
     "timestamp": 1606738986527,
     "user": {
      "displayName": "Joan Verdú",
      "photoUrl": "https://lh3.googleusercontent.com/a-/AOh14Ghq6Zm9ACo3kD6kZhp6ZuWkYJqG_DQfPoIV1Ues=s64",
      "userId": "17893353067607712705"
     },
     "user_tz": -60
    },
    "id": "aL747pO6AICF",
    "outputId": "5130ccf0-283e-468e-ac8d-3c7ecff4c90b"
   },
   "outputs": [],
   "source": [
    "# Note that indices can get moved around, by sorting for example!\n",
    "# iloc gives you the element you would get if the Series\n",
    "# were a list and you were giving it the index:\n",
    "\n",
    "# This just resets the index to be as we found it originally\n",
    "my_series = my_series.reset_index(drop=True)\n",
    "\n",
    "x = my_series.sort_values()\n",
    "\n",
    "x[0], x.iloc[0]"
   ]
  },
  {
   "cell_type": "code",
   "execution_count": null,
   "metadata": {},
   "outputs": [],
   "source": [
    "print(my_series)"
   ]
  },
  {
   "cell_type": "code",
   "execution_count": null,
   "metadata": {},
   "outputs": [],
   "source": [
    "print(x)"
   ]
  },
  {
   "cell_type": "markdown",
   "metadata": {
    "ein.tags": "worksheet-0",
    "id": "gi1uvOjwAICF"
   },
   "source": [
    "## Operations with series\n",
    "\n",
    "Because Series are Numpy arrays behind the scenes, we can compute element-wise functions on one series or several series at the same time. The result is another series with data type depending on the type of operations performed. \n",
    "\n",
    "For example, what do you think the following piece of code will do: "
   ]
  },
  {
   "cell_type": "code",
   "execution_count": null,
   "metadata": {
    "autoscroll": false,
    "ein.hycell": false,
    "ein.tags": "worksheet-0",
    "executionInfo": {
     "elapsed": 1434,
     "status": "ok",
     "timestamp": 1606738986527,
     "user": {
      "displayName": "Joan Verdú",
      "photoUrl": "https://lh3.googleusercontent.com/a-/AOh14Ghq6Zm9ACo3kD6kZhp6ZuWkYJqG_DQfPoIV1Ues=s64",
      "userId": "17893353067607712705"
     },
     "user_tz": -60
    },
    "id": "CTYbxYyyAICF"
   },
   "outputs": [],
   "source": [
    "series1 = pd.Series([1,3,5,7])\n",
    "series2 = pd.Series([0,10,-1,6])\n",
    "\n",
    "series3 = 2*series1 + abs(series2)\n",
    "\n",
    "series4 = series1 > series2 \n",
    "\n",
    "# Take a look at the different Series objects!"
   ]
  },
  {
   "cell_type": "code",
   "execution_count": null,
   "metadata": {},
   "outputs": [],
   "source": [
    "print(series4)"
   ]
  },
  {
   "cell_type": "markdown",
   "metadata": {
    "ein.tags": "worksheet-0",
    "id": "ZEboHC67AICF"
   },
   "source": [
    "## Data alignment \n",
    "\n",
    "What goes on in the previous examples is more subtle than it looks. How does Python know which elements from each series to join in the required operation together?  \n",
    "\n",
    "What happens is that the indices happened to be the same. So when we ask something like \n",
    "\n",
    "```python\n",
    "series3 = series1 + series2 \n",
    "```\n",
    "\n",
    "Python looks for entries in each series with the same index and then does an elementwise summation that it stores in a like-wise index in Series 3. \n",
    "\n",
    "Consider instead the following example "
   ]
  },
  {
   "cell_type": "code",
   "execution_count": null,
   "metadata": {
    "autoscroll": false,
    "ein.hycell": false,
    "ein.tags": "worksheet-0",
    "executionInfo": {
     "elapsed": 1431,
     "status": "ok",
     "timestamp": 1606738986528,
     "user": {
      "displayName": "Joan Verdú",
      "photoUrl": "https://lh3.googleusercontent.com/a-/AOh14Ghq6Zm9ACo3kD6kZhp6ZuWkYJqG_DQfPoIV1Ues=s64",
      "userId": "17893353067607712705"
     },
     "user_tz": -60
    },
    "id": "XqoE85a5AICF"
   },
   "outputs": [],
   "source": [
    "series1 = pd.Series([1,10,30],index=[\"om\",\"iros\",\"hi\"])\n",
    "series2 = pd.Series([4,-1],index=[\"pap\",\"as\"])\n",
    "series3 = series1 + series2\n",
    "print(series3)"
   ]
  },
  {
   "cell_type": "markdown",
   "metadata": {
    "ein.tags": "worksheet-0",
    "id": "5-NBTjUeAICF"
   },
   "source": [
    "This aspect makes it very easy to work with series that we have sorted or manipulated otherwise; there is always the address to access a value. This helps prevent accidentally combining values we didn't mean to combine!"
   ]
  },
  {
   "cell_type": "markdown",
   "metadata": {
    "ein.tags": "worksheet-0",
    "id": "-_HgLjbhAICF"
   },
   "source": [
    "## Basic information retrieval with series\n",
    "\n",
    "+ Accessing single elements\n",
    "+ Slicing; accessing a set of elements\n",
    "+ Filtering; selection by  boolean index\n",
    "\n",
    "Recalling that operations on Series returns Series, the big news here is that we can access values in a Series by specifying \n",
    "\n",
    "+ single index\n",
    "+ a slice (a:b for integers a,b) \n",
    "+ list (or Numpy Array or Series) of index labels\n",
    "+ a boolean Series (also called a _boolean mask_) \n",
    "\n",
    "Interesting: the result of any such retrieval (except for a single index) is a series itself!"
   ]
  },
  {
   "cell_type": "code",
   "execution_count": null,
   "metadata": {
    "autoscroll": false,
    "ein.hycell": false,
    "ein.tags": "worksheet-0",
    "executionInfo": {
     "elapsed": 1428,
     "status": "ok",
     "timestamp": 1606738986528,
     "user": {
      "displayName": "Joan Verdú",
      "photoUrl": "https://lh3.googleusercontent.com/a-/AOh14Ghq6Zm9ACo3kD6kZhp6ZuWkYJqG_DQfPoIV1Ues=s64",
      "userId": "17893353067607712705"
     },
     "user_tz": -60
    },
    "id": "8DWj1O_bAICF"
   },
   "outputs": [],
   "source": [
    "# accesing by list of index labels\n",
    "\n",
    "my_series.index = [\"om\",\"ir\",\"os\",\"pap\",\"pas\",\"pil\",\"io\",\"po\",\"ulos\",\"is\",\"best\"]\n",
    "x = my_series[[\"om\",\"pap\"]]\n",
    "print(x)"
   ]
  },
  {
   "cell_type": "code",
   "execution_count": null,
   "metadata": {},
   "outputs": [],
   "source": [
    "print(my_series)"
   ]
  },
  {
   "cell_type": "code",
   "execution_count": null,
   "metadata": {
    "autoscroll": false,
    "colab": {
     "base_uri": "https://localhost:8080/"
    },
    "ein.hycell": false,
    "ein.tags": "worksheet-0",
    "executionInfo": {
     "elapsed": 1426,
     "status": "ok",
     "timestamp": 1606738986529,
     "user": {
      "displayName": "Joan Verdú",
      "photoUrl": "https://lh3.googleusercontent.com/a-/AOh14Ghq6Zm9ACo3kD6kZhp6ZuWkYJqG_DQfPoIV1Ues=s64",
      "userId": "17893353067607712705"
     },
     "user_tz": -60
    },
    "id": "WWU56PvzAICF",
    "outputId": "105c0efe-4ebd-4812-fcd4-ad0cc45373d7"
   },
   "outputs": [],
   "source": [
    "# getting a boolean-valued series by checking a condition\n",
    "\n",
    "choose = my_series == 0.0\n",
    "choose"
   ]
  },
  {
   "cell_type": "code",
   "execution_count": null,
   "metadata": {
    "autoscroll": false,
    "colab": {
     "base_uri": "https://localhost:8080/"
    },
    "ein.hycell": false,
    "ein.tags": "worksheet-0",
    "executionInfo": {
     "elapsed": 1422,
     "status": "ok",
     "timestamp": 1606738986529,
     "user": {
      "displayName": "Joan Verdú",
      "photoUrl": "https://lh3.googleusercontent.com/a-/AOh14Ghq6Zm9ACo3kD6kZhp6ZuWkYJqG_DQfPoIV1Ues=s64",
      "userId": "17893353067607712705"
     },
     "user_tz": -60
    },
    "id": "oEUBbnKOAICG",
    "outputId": "da759f0b-fc12-4050-ed5d-8c2d5d75b36e"
   },
   "outputs": [],
   "source": [
    "# Notice the index of x is a SUBSET of the index of \"my_series\"\n",
    "# This can be useful when needing to relate values back to the original \"my_series\"!\n",
    "\n",
    "x = my_series[choose]\n",
    "print(x)"
   ]
  },
  {
   "cell_type": "markdown",
   "metadata": {
    "ein.tags": "worksheet-0",
    "id": "OTW-uaDSAICG"
   },
   "source": [
    "## Filtering via boolean masks\n",
    "\n",
    "We often use boolean masks to filter data in Pandas. Series that are of type \"bool\" thus take on special significance: we use them a lot!\n",
    "\n",
    "We also get special boolean algebra operators to use in Numpy/Pandas, distinct from the and/or/not you will use in regular Python: \n",
    "\n",
    "\n",
    "```python\n",
    "& # AND\n",
    "| # OR\n",
    "~ # NOT\n",
    "```\n",
    "\n",
    "The reason why these are needed with Series is because we want to perform the boolean operation *elementwise*\n",
    "\n",
    "For example if a and b are series with boolean entries\n",
    "\n",
    "```python\n",
    "a and b\n",
    "```\n",
    "\n",
    "will produce error but \n",
    "\n",
    "```python\n",
    "a & b\n",
    "```\n",
    "will produce a series whose elements are the result of the elementwise boolean operation"
   ]
  },
  {
   "cell_type": "code",
   "execution_count": null,
   "metadata": {},
   "outputs": [],
   "source": [
    "(1>2) and (2>1)"
   ]
  },
  {
   "cell_type": "markdown",
   "metadata": {},
   "source": [
    "#### Exercise 2\n",
    "\n",
    "Filter \"my_series\" to be all the elements that are NOT equal to 0, using a boolean mask we  created earlier in the notebook"
   ]
  },
  {
   "cell_type": "code",
   "execution_count": null,
   "metadata": {
    "autoscroll": false,
    "colab": {
     "base_uri": "https://localhost:8080/"
    },
    "ein.hycell": false,
    "ein.tags": "worksheet-0",
    "executionInfo": {
     "elapsed": 1418,
     "status": "ok",
     "timestamp": 1606738986529,
     "user": {
      "displayName": "Joan Verdú",
      "photoUrl": "https://lh3.googleusercontent.com/a-/AOh14Ghq6Zm9ACo3kD6kZhp6ZuWkYJqG_DQfPoIV1Ues=s64",
      "userId": "17893353067607712705"
     },
     "user_tz": -60
    },
    "id": "7TuBrHGOAICG",
    "outputId": "e36251d0-5b37-4ef9-bfef-b81cdc3d07b2"
   },
   "outputs": [],
   "source": [
    "# Solution: \n",
    "\n",
    "\n"
   ]
  },
  {
   "cell_type": "markdown",
   "metadata": {
    "ein.tags": "worksheet-0",
    "id": "wegFzGuXAICG"
   },
   "source": [
    "## Coding and managing missing values\n",
    "\n",
    "A series object in PANDAS can deal with maybe the most important type of data of all for data analysis: missing data! \n",
    "\n",
    "We already see very naturally how data management leads to missing data rather immediately. Recall the earlier attempt to sum up two Series\n",
    "\n",
    "```python\n",
    "series3 = series1 + series2\n",
    "print(series3)\n",
    "as     NaN\n",
    "iros   NaN\n",
    "om     NaN\n",
    "pap    NaN\n",
    "dtype: float64\n",
    "```\n",
    "What happened there is that in the operation labels could not be matched, so pandas tried to sum a numeric value with a missing value, the result of which is a missing value!"
   ]
  },
  {
   "cell_type": "markdown",
   "metadata": {
    "ein.tags": "worksheet-0",
    "id": "DaYwuA0yAICG"
   },
   "source": [
    "The way to manually specify in PANDAS that a value is missing is to use use None, as below: \n",
    "\n",
    "```python\n",
    "temp = pd.Series([1,None,2])\n",
    "print(temp)\n",
    "0    1.0\n",
    "1    NaN\n",
    "2    2.0\n",
    "dtype: float64\n",
    "```\n",
    "If the Series is numeric, Pandas will cast it to numpy.float64 type and convert the None values to Numpy NaN values (Not a Number). If the Series is of type \"object\" (arbitrary Python objects), it will keep the values as None.\n",
    "\n",
    "We can create *boolean masks* on the basis of such values. The way to identify NaN or None values in a Series is to use either of the equivalent two attributes\n",
    "\n",
    "```python\n",
    "seriesname.isna()\n",
    "seriesname.isnull()\n",
    "```\n",
    "\n",
    "Either returns a boolean-valued series that we can use then for selecting and operating on NaN or the rest of the values. The opposite also exists: \n",
    "\n",
    "```python\n",
    "seriesname.notna()\n",
    "seriesname.notnull()\n",
    "```\n"
   ]
  },
  {
   "cell_type": "markdown",
   "metadata": {},
   "source": [
    "#### Exercise 3\n",
    "\n",
    "Create a series with the following values, 'foo','bar',None,'baz','qux',None \n",
    "\n",
    "Create a series that contains the names without the Null values"
   ]
  },
  {
   "cell_type": "code",
   "execution_count": null,
   "metadata": {
    "autoscroll": false,
    "ein.hycell": false,
    "ein.tags": "worksheet-0",
    "executionInfo": {
     "elapsed": 1416,
     "status": "ok",
     "timestamp": 1606738986530,
     "user": {
      "displayName": "Joan Verdú",
      "photoUrl": "https://lh3.googleusercontent.com/a-/AOh14Ghq6Zm9ACo3kD6kZhp6ZuWkYJqG_DQfPoIV1Ues=s64",
      "userId": "17893353067607712705"
     },
     "user_tz": -60
    },
    "id": "xf6ES4LXAICG"
   },
   "outputs": [],
   "source": [
    "# Solution: \n",
    "\n",
    "\n"
   ]
  },
  {
   "cell_type": "markdown",
   "metadata": {
    "ein.tags": "worksheet-0",
    "id": "HU9RGAG5AICG"
   },
   "source": [
    "## Highlighting some important series attributes & methods\n",
    "\n",
    "As usual one should explore the attributes of any python object one ends up working with. We have already accessed the seriesname.index and seriesname.value\n",
    "\n",
    "Some other (among many!) that are worth highlighting: \n",
    "\n",
    "+ .map\n",
    "+ .corr \n",
    "+ .describe\n",
    "+ .hist\n",
    "+ .plot\n",
    "+ .size\n",
    "+ .value_counts\n",
    "+ .sort_values"
   ]
  },
  {
   "cell_type": "markdown",
   "metadata": {},
   "source": [
    "#### In-class exercise\n",
    "\n",
    "Create a series with the following values, 'Foo', 'BAR', None, 'foo', None, 'bar', 'bAR','foo', None\n",
    "\n",
    "Use the \"map\" method to create a new series with each element lowercased. Create your own function to do the operation. Missing values should stay missing!\n",
    "\n"
   ]
  },
  {
   "cell_type": "code",
   "execution_count": null,
   "metadata": {
    "autoscroll": false,
    "colab": {
     "base_uri": "https://localhost:8080/"
    },
    "ein.hycell": false,
    "ein.tags": "worksheet-0",
    "executionInfo": {
     "elapsed": 1704,
     "status": "ok",
     "timestamp": 1606738986825,
     "user": {
      "displayName": "Joan Verdú",
      "photoUrl": "https://lh3.googleusercontent.com/a-/AOh14Ghq6Zm9ACo3kD6kZhp6ZuWkYJqG_DQfPoIV1Ues=s64",
      "userId": "17893353067607712705"
     },
     "user_tz": -60
    },
    "id": "HF8LUxj9AICG",
    "outputId": "74ff8f4a-2392-4549-9a90-736978a17a92"
   },
   "outputs": [],
   "source": [
    "# Challenge: \n",
    "\n"
   ]
  },
  {
   "cell_type": "markdown",
   "metadata": {},
   "source": [
    "#### Exercise 4: \n",
    "\n",
    "Using the series from above, now lowercased, count the occurences of each name\n",
    "Hint: do not use a loop! Check the series methods mentioned earlier "
   ]
  },
  {
   "cell_type": "code",
   "execution_count": null,
   "metadata": {
    "autoscroll": false,
    "colab": {
     "base_uri": "https://localhost:8080/"
    },
    "ein.hycell": false,
    "ein.tags": "worksheet-0",
    "executionInfo": {
     "elapsed": 1702,
     "status": "ok",
     "timestamp": 1606738986826,
     "user": {
      "displayName": "Joan Verdú",
      "photoUrl": "https://lh3.googleusercontent.com/a-/AOh14Ghq6Zm9ACo3kD6kZhp6ZuWkYJqG_DQfPoIV1Ues=s64",
      "userId": "17893353067607712705"
     },
     "user_tz": -60
    },
    "id": "KarLg5CzAICG",
    "outputId": "98de5625-f5e8-4099-9166-a33b4f8890c5"
   },
   "outputs": [],
   "source": [
    "# Challenge: \n",
    "\n",
    "\n"
   ]
  },
  {
   "cell_type": "markdown",
   "metadata": {
    "ein.tags": "worksheet-0",
    "id": "UFaiOQDBAICG"
   },
   "source": [
    "## Dataframes\n",
    "\n",
    "This is PANDAS model for rectangular data, operationally is like a dictionary of series; each column of the dataframe is a series object, and clearly comes with all the attributes/methods of a series\n",
    "\n",
    "An implication of the above is that within each column the data type is common; across columns of course this can change\n",
    "\n",
    "Let's see an example right away "
   ]
  },
  {
   "cell_type": "code",
   "execution_count": null,
   "metadata": {
    "autoscroll": false,
    "colab": {
     "base_uri": "https://localhost:8080/",
     "height": 355
    },
    "ein.hycell": false,
    "ein.tags": "worksheet-0",
    "executionInfo": {
     "elapsed": 1697,
     "status": "ok",
     "timestamp": 1606738986826,
     "user": {
      "displayName": "Joan Verdú",
      "photoUrl": "https://lh3.googleusercontent.com/a-/AOh14Ghq6Zm9ACo3kD6kZhp6ZuWkYJqG_DQfPoIV1Ues=s64",
      "userId": "17893353067607712705"
     },
     "user_tz": -60
    },
    "id": "6mJdD3XrAICG",
    "outputId": "0127b150-c5fa-4c2e-f1c2-c79c899f12b9"
   },
   "outputs": [],
   "source": [
    "tips.head(10) # the first method of our dataframe object! "
   ]
  },
  {
   "cell_type": "code",
   "execution_count": null,
   "metadata": {
    "autoscroll": false,
    "colab": {
     "base_uri": "https://localhost:8080/"
    },
    "ein.hycell": false,
    "ein.tags": "worksheet-0",
    "executionInfo": {
     "elapsed": 1691,
     "status": "ok",
     "timestamp": 1606738986827,
     "user": {
      "displayName": "Joan Verdú",
      "photoUrl": "https://lh3.googleusercontent.com/a-/AOh14Ghq6Zm9ACo3kD6kZhp6ZuWkYJqG_DQfPoIV1Ues=s64",
      "userId": "17893353067607712705"
     },
     "user_tz": -60
    },
    "id": "b2NJONZsAICG",
    "outputId": "62aabf53-3baf-40cb-ccc0-1b68dd6038e8"
   },
   "outputs": [],
   "source": [
    "# the other important attribute: name of rows and columns\n",
    "print(tips.index)\n",
    "\n",
    "tips.columns"
   ]
  },
  {
   "cell_type": "markdown",
   "metadata": {
    "ein.tags": "worksheet-0",
    "id": "Tvuy0THbAICG"
   },
   "source": [
    "## Accessing the series embedded within\n",
    "\n",
    "There are three ways to access the information in the columns: \n",
    "+ One is to give the name of the column as `dataframename.columnname` \n",
    "   + This is not feasible when the name of the column coincides with an attribute or method of the dataframe, e.g. when a column is called \"size\"  \n",
    "+ Another is as dataframename[\"columnname\"]\n",
    "+ A third is to access the data frame columns (and rows) as if it were an array, using *iloc*; we explore this a bit later\n",
    "\n",
    "Any of these calls returns a series object with the same index as the dataframe and the values of the column\n",
    "\n",
    "We can then work with the extracted series as usual. Hence you can understand what happens below \n",
    "\n",
    "```python\n",
    "tips[\"size\"].corr(tips.tip)\n",
    "```"
   ]
  },
  {
   "cell_type": "code",
   "execution_count": null,
   "metadata": {},
   "outputs": [],
   "source": [
    "tips.sex[3]"
   ]
  },
  {
   "cell_type": "code",
   "execution_count": null,
   "metadata": {},
   "outputs": [],
   "source": [
    "tips[\"size\"]"
   ]
  },
  {
   "cell_type": "markdown",
   "metadata": {
    "ein.tags": "worksheet-0",
    "id": "KZHc2Ka2AICG"
   },
   "source": [
    "In a similar fashion, we can access various columns at a time; we need to provide a list of column names in this case; the result is now a dataframe with the same index as the original and columns the chosen subset. We can then work with it using any of the dataframe attributes and methods we know. \n",
    "\n",
    "You can now guess what will happen below: \n",
    "\n",
    "```python\n",
    "tips[[\"tip\",\"size\",\"sex\"]].tip.corr(tips[\"size\"])\n",
    "\n",
    "```\n",
    "(not saying that this is a sensible piece of code! just trying to make sure we understand the structure)"
   ]
  },
  {
   "cell_type": "markdown",
   "metadata": {
    "ein.tags": "worksheet-0",
    "id": "f3oa-VL1AICG"
   },
   "source": [
    "## Accessing subsets of rows\n",
    "\n",
    "Now we are interested in a subset of rows. We can access rows by:\n",
    "+ list of index labels \n",
    "  ```python\n",
    "  dataframename.loc[ [index1, index2, ...] ]\n",
    "  ```\n",
    "+ list of integer index location (i-loc) \n",
    "  ```python\n",
    "  dataframename.iloc[ [integer1, integer2, ...] ]\n",
    "  ```\n",
    "The output is:\n",
    "+ a series, if a single column or row is chosen\n",
    "+ a dataframe, with index label the chosen index labels and the same column names as the dataframe\n",
    "\n",
    "In the case of .iloc we can also use slices, as for example\n",
    "```python\n",
    "dataframename.iloc[3:5]\n",
    "dataframename.iloc[3:5,:]\n",
    "dataframename.iloc[3:5,-2:]\n",
    "```\n",
    "\n",
    "Note: loc/iloc are also used to access a subset of rows AND columns at the same time. See examples below!"
   ]
  },
  {
   "cell_type": "code",
   "execution_count": null,
   "metadata": {
    "autoscroll": false,
    "colab": {
     "base_uri": "https://localhost:8080/",
     "height": 0
    },
    "ein.hycell": false,
    "ein.tags": "worksheet-0",
    "executionInfo": {
     "elapsed": 1685,
     "status": "ok",
     "timestamp": 1606738986827,
     "user": {
      "displayName": "Joan Verdú",
      "photoUrl": "https://lh3.googleusercontent.com/a-/AOh14Ghq6Zm9ACo3kD6kZhp6ZuWkYJqG_DQfPoIV1Ues=s64",
      "userId": "17893353067607712705"
     },
     "user_tz": -60
    },
    "id": "_RjK_9YaAICG",
    "outputId": "e3b5fedc-58de-45dd-8830-4961ddbc2acd"
   },
   "outputs": [],
   "source": [
    "# Accessing rows AND columns!\n",
    "# Example of two-dimensional loc\n",
    "\n",
    "tips.loc[[1,3], ['sex', 'smoker']]"
   ]
  },
  {
   "cell_type": "code",
   "execution_count": null,
   "metadata": {
    "autoscroll": false,
    "colab": {
     "base_uri": "https://localhost:8080/",
     "height": 0
    },
    "ein.hycell": false,
    "ein.tags": "worksheet-0",
    "executionInfo": {
     "elapsed": 2066,
     "status": "ok",
     "timestamp": 1606738987212,
     "user": {
      "displayName": "Joan Verdú",
      "photoUrl": "https://lh3.googleusercontent.com/a-/AOh14Ghq6Zm9ACo3kD6kZhp6ZuWkYJqG_DQfPoIV1Ues=s64",
      "userId": "17893353067607712705"
     },
     "user_tz": -60
    },
    "id": "3WVU6aYxAICG",
    "outputId": "2409d14f-6ff3-471f-9769-6b76c570db8b"
   },
   "outputs": [],
   "source": [
    "# Accessing rows AND columns!\n",
    "# Example of 2-dimensional iloc\n",
    "\n",
    "tips.loc[1:3, [\"smoker\"]]"
   ]
  },
  {
   "cell_type": "markdown",
   "metadata": {
    "autoscroll": false,
    "ein.hycell": false,
    "ein.tags": "worksheet-0",
    "executionInfo": {
     "elapsed": 2063,
     "status": "ok",
     "timestamp": 1606738987213,
     "user": {
      "displayName": "Joan Verdú",
      "photoUrl": "https://lh3.googleusercontent.com/a-/AOh14Ghq6Zm9ACo3kD6kZhp6ZuWkYJqG_DQfPoIV1Ues=s64",
      "userId": "17893353067607712705"
     },
     "user_tz": -60
    },
    "id": "EQSgvCb-AICG"
   },
   "source": [
    "#### In-class exercise:\n",
    "\n",
    "Using the tips dataframe, create a new one that contains the information contained in all rows between the 20th (inclusive) and the 45th (exclusive) and only the columns: tip, sex, day"
   ]
  },
  {
   "cell_type": "code",
   "execution_count": null,
   "metadata": {
    "autoscroll": false,
    "colab": {
     "base_uri": "https://localhost:8080/",
     "height": 0
    },
    "ein.hycell": false,
    "ein.tags": "worksheet-0",
    "executionInfo": {
     "elapsed": 2059,
     "status": "ok",
     "timestamp": 1606738987213,
     "user": {
      "displayName": "Joan Verdú",
      "photoUrl": "https://lh3.googleusercontent.com/a-/AOh14Ghq6Zm9ACo3kD6kZhp6ZuWkYJqG_DQfPoIV1Ues=s64",
      "userId": "17893353067607712705"
     },
     "user_tz": -60
    },
    "id": "I9Uo63b2AICG",
    "outputId": "b77ae572-3aa8-49a0-ef95-52d9d057a559"
   },
   "outputs": [],
   "source": [
    "# Challenge\n",
    "\n"
   ]
  },
  {
   "cell_type": "markdown",
   "metadata": {
    "ein.tags": "worksheet-0",
    "id": "vsS0AvJvAICG"
   },
   "source": [
    "Note that certain operations are exchangeable: the 3rd element of column \"sex\" can be obtained with either of the following ways: \n",
    "```python\n",
    "tips.sex[2] #access col as series, then the 3rd element of that\n",
    "tips.loc[2,\"sex\"] #access the entry in dataframe by giving the names of row and col \n",
    "tips.loc[2][\"sex\"] #accessing the whole row as a series, then using the column name as index label\n",
    "```\n",
    "etc\n"
   ]
  },
  {
   "cell_type": "markdown",
   "metadata": {
    "ein.tags": "worksheet-0",
    "id": "ZMK745KvAICG"
   },
   "source": [
    "## Filtering\n",
    "\n",
    "As with series, we can use a boolean-valued series to index a dataframe provided they share the same index labels. The simplest instance of this is to use series produced as boolean masks of columns of the dataframe. The output of this *filtering* operation is a dataframe with subset of rows corresponding to the True values in the boolean mask. \n",
    "\n",
    "For example, for the tips data, what does the following produce? \n",
    "```python\n",
    "tips[tips.sex == \"Male\"] \n",
    "```\n",
    "\n",
    "Recall that the boolean operators are \n",
    "```python\n",
    "& # AND\n",
    "| # OR\n",
    "~ # NOT\n",
    "\n",
    "```"
   ]
  },
  {
   "cell_type": "markdown",
   "metadata": {
    "ein.tags": "worksheet-0",
    "id": "vL_V-Y33AICG"
   },
   "source": [
    "## Statistics and computations\n",
    "\n",
    "dataframe comes with several attributes for computing column-wise statistics and summaries. We highlight some \n",
    "```python\n",
    ".boxplot # check out the \"by = \" option!\n",
    ".corrwith & .corr # within and across dataframes!\n",
    ".dot \n",
    ".mean/median/max/quantile/sum etc\n",
    ".sample \n",
    ".sort_values \n",
    "```"
   ]
  },
  {
   "cell_type": "markdown",
   "metadata": {},
   "source": [
    "#### Exercise 5\n",
    "\n",
    "Using the tips dataframe, calculate the correlation between tip and size for only Male clients during Dinner. \n"
   ]
  },
  {
   "cell_type": "code",
   "execution_count": null,
   "metadata": {
    "autoscroll": false,
    "ein.hycell": false,
    "ein.tags": "worksheet-0",
    "executionInfo": {
     "elapsed": 2055,
     "status": "ok",
     "timestamp": 1606738987214,
     "user": {
      "displayName": "Joan Verdú",
      "photoUrl": "https://lh3.googleusercontent.com/a-/AOh14Ghq6Zm9ACo3kD6kZhp6ZuWkYJqG_DQfPoIV1Ues=s64",
      "userId": "17893353067607712705"
     },
     "user_tz": -60
    },
    "id": "J-nVKDedAICG"
   },
   "outputs": [],
   "source": [
    "# Challenge:\n",
    "\n",
    "# \n",
    "\n",
    "\n"
   ]
  },
  {
   "cell_type": "markdown",
   "metadata": {
    "ein.tags": "worksheet-0",
    "id": "SzPg-A1YAICH"
   },
   "source": [
    "## GroupBy\n",
    "\n",
    "This dataframe method groups the dataframe according to the values of a column, treating them as categorical values; it returns a groupby object!\n",
    "\n",
    "Groupby objects are useful, but can feel a bit opaque. Let's play around with them a bit: "
   ]
  },
  {
   "cell_type": "code",
   "execution_count": null,
   "metadata": {
    "autoscroll": false,
    "colab": {
     "base_uri": "https://localhost:8080/"
    },
    "ein.hycell": false,
    "ein.tags": "worksheet-0",
    "executionInfo": {
     "elapsed": 2048,
     "status": "ok",
     "timestamp": 1606738987215,
     "user": {
      "displayName": "Joan Verdú",
      "photoUrl": "https://lh3.googleusercontent.com/a-/AOh14Ghq6Zm9ACo3kD6kZhp6ZuWkYJqG_DQfPoIV1Ues=s64",
      "userId": "17893353067607712705"
     },
     "user_tz": -60
    },
    "id": "Z53nCvwWAICH",
    "outputId": "551e594d-2212-41be-a136-d2ff61287881"
   },
   "outputs": [],
   "source": [
    "# Group tips dataframe by size of table\n",
    "by_size = tips.groupby(\"size\")\n",
    "\n",
    "by_size"
   ]
  },
  {
   "cell_type": "code",
   "execution_count": null,
   "metadata": {},
   "outputs": [],
   "source": [
    "tips.head()"
   ]
  },
  {
   "cell_type": "code",
   "execution_count": null,
   "metadata": {},
   "outputs": [],
   "source": [
    "tips.groupby(\"size\").tip.mean()"
   ]
  },
  {
   "cell_type": "code",
   "execution_count": null,
   "metadata": {
    "autoscroll": false,
    "colab": {
     "base_uri": "https://localhost:8080/"
    },
    "ein.hycell": false,
    "ein.tags": "worksheet-0",
    "executionInfo": {
     "elapsed": 2045,
     "status": "ok",
     "timestamp": 1606738987215,
     "user": {
      "displayName": "Joan Verdú",
      "photoUrl": "https://lh3.googleusercontent.com/a-/AOh14Ghq6Zm9ACo3kD6kZhp6ZuWkYJqG_DQfPoIV1Ues=s64",
      "userId": "17893353067607712705"
     },
     "user_tz": -60
    },
    "id": "eCka1VeSAICH",
    "outputId": "69bcab93-2bf5-4794-fd9f-ae3988ef7b17"
   },
   "outputs": [],
   "source": [
    "# If we coerce it to a list, we see something interesting: \n",
    "# It's basically a list of tuples! \n",
    "# The first element is the \"category\" variable, the second\n",
    "# is a datafame. \n",
    "\n",
    "list(by_size)"
   ]
  },
  {
   "cell_type": "code",
   "execution_count": null,
   "metadata": {
    "autoscroll": false,
    "colab": {
     "base_uri": "https://localhost:8080/"
    },
    "ein.hycell": false,
    "ein.tags": "worksheet-0",
    "executionInfo": {
     "elapsed": 2041,
     "status": "ok",
     "timestamp": 1606738987215,
     "user": {
      "displayName": "Joan Verdú",
      "photoUrl": "https://lh3.googleusercontent.com/a-/AOh14Ghq6Zm9ACo3kD6kZhp6ZuWkYJqG_DQfPoIV1Ues=s64",
      "userId": "17893353067607712705"
     },
     "user_tz": -60
    },
    "id": "KPABz96SAICH",
    "outputId": "ecd1e4ce-c11d-4eda-d050-0a5444086c23"
   },
   "outputs": [],
   "source": [
    "# We can iterate through the groupby just like we would a list of tuples!\n",
    "\n",
    "\n",
    "for sex,data in tips.groupby(\"sex\"):\n",
    "    print(sex)\n",
    "    print(data.mean())"
   ]
  },
  {
   "cell_type": "markdown",
   "metadata": {
    "ein.tags": "worksheet-0",
    "id": "31TRVSrqAICH"
   },
   "source": [
    "## Why do we groupby? \n",
    "\n",
    "We group by to perform _some_ operation on each group. To _map_ over the groups, applying a function to each element! \n",
    "\n",
    "Very often this function is itself an aggregation (reduction). We want to somehow aggregate each group into a value or set of values that _describe_ the group!\n",
    "\n",
    "How do we apply functions to each element of a groupby? We use a handy method called \".apply\"!"
   ]
  },
  {
   "cell_type": "code",
   "execution_count": null,
   "metadata": {
    "autoscroll": false,
    "colab": {
     "base_uri": "https://localhost:8080/"
    },
    "ein.hycell": false,
    "ein.tags": "worksheet-0",
    "executionInfo": {
     "elapsed": 2038,
     "status": "ok",
     "timestamp": 1606738987216,
     "user": {
      "displayName": "Joan Verdú",
      "photoUrl": "https://lh3.googleusercontent.com/a-/AOh14Ghq6Zm9ACo3kD6kZhp6ZuWkYJqG_DQfPoIV1Ues=s64",
      "userId": "17893353067607712705"
     },
     "user_tz": -60
    },
    "id": "3BsZedg2AICH",
    "outputId": "65ca995b-495d-47c8-ae97-0f3ec9d53576"
   },
   "outputs": [],
   "source": [
    "# Get the maximum bill by gender: \n",
    "\n",
    "def max_bill(df):\n",
    "    return df.total_bill.max()\n",
    "\n",
    "tips.groupby(\"sex\").apply(max_bill)"
   ]
  },
  {
   "cell_type": "markdown",
   "metadata": {},
   "source": [
    "#### In-class exercise\n",
    "\n",
    "Get the second largest bill by gender!\n",
    "\n",
    "HINT: use sort_values and iloc!"
   ]
  },
  {
   "cell_type": "code",
   "execution_count": null,
   "metadata": {
    "autoscroll": false,
    "ein.hycell": false,
    "ein.tags": "worksheet-0",
    "executionInfo": {
     "elapsed": 2034,
     "status": "ok",
     "timestamp": 1606738987216,
     "user": {
      "displayName": "Joan Verdú",
      "photoUrl": "https://lh3.googleusercontent.com/a-/AOh14Ghq6Zm9ACo3kD6kZhp6ZuWkYJqG_DQfPoIV1Ues=s64",
      "userId": "17893353067607712705"
     },
     "user_tz": -60
    },
    "id": "mcQia9CuAICH"
   },
   "outputs": [],
   "source": [
    "# Challenge: \n",
    "\n"
   ]
  },
  {
   "cell_type": "markdown",
   "metadata": {
    "ein.tags": "worksheet-0",
    "id": "1qdJ-fb3AICH"
   },
   "source": [
    "## Built-in Aggregations in groupby\n",
    "\n",
    "Many aggregation functions that exist on Series and DataFrames (mean, max, min, etc.) can be called directly via the groupby object: \n",
    "\n",
    "```python\n",
    "tips.groupby(\"sex\").max()\n",
    "tips.groupby(\"sex\").mean()\n",
    "```"
   ]
  },
  {
   "cell_type": "markdown",
   "metadata": {},
   "source": [
    "#### In-class exercise: \n",
    "\n",
    "What is the mean tip, per day, for male vs. female?"
   ]
  },
  {
   "cell_type": "code",
   "execution_count": null,
   "metadata": {
    "autoscroll": false,
    "colab": {
     "base_uri": "https://localhost:8080/",
     "height": 0
    },
    "ein.hycell": false,
    "ein.tags": "worksheet-0",
    "executionInfo": {
     "elapsed": 2312,
     "status": "ok",
     "timestamp": 1606738987509,
     "user": {
      "displayName": "Joan Verdú",
      "photoUrl": "https://lh3.googleusercontent.com/a-/AOh14Ghq6Zm9ACo3kD6kZhp6ZuWkYJqG_DQfPoIV1Ues=s64",
      "userId": "17893353067607712705"
     },
     "user_tz": -60
    },
    "id": "d7wUt6aBAICH",
    "outputId": "574cbe13-6e84-4756-a3ab-631291f13674"
   },
   "outputs": [],
   "source": [
    "# Challenge: \n",
    "\n"
   ]
  },
  {
   "cell_type": "markdown",
   "metadata": {
    "ein.tags": "worksheet-0",
    "id": "o8LmaAMYAICH"
   },
   "source": [
    "\n",
    "# Multiple Groupby!\n",
    "\n",
    "That groupby induction that we just performed, it's quite a common use-case! So there's an even easier way to do it in Pandas. \n",
    "\n",
    "We can group by more than one column! "
   ]
  },
  {
   "cell_type": "code",
   "execution_count": null,
   "metadata": {
    "autoscroll": false,
    "colab": {
     "base_uri": "https://localhost:8080/"
    },
    "ein.hycell": false,
    "ein.tags": "worksheet-0",
    "executionInfo": {
     "elapsed": 2307,
     "status": "ok",
     "timestamp": 1606738987509,
     "user": {
      "displayName": "Joan Verdú",
      "photoUrl": "https://lh3.googleusercontent.com/a-/AOh14Ghq6Zm9ACo3kD6kZhp6ZuWkYJqG_DQfPoIV1Ues=s64",
      "userId": "17893353067607712705"
     },
     "user_tz": -60
    },
    "id": "wPEUhbFQAICH",
    "outputId": "b9bff100-2bac-430b-cc39-219c65164c10"
   },
   "outputs": [],
   "source": [
    "# Take a look at the structure of the multiple groupby!\n",
    "\n",
    "list(tips.groupby([\"sex\", \"day\"]))"
   ]
  },
  {
   "cell_type": "markdown",
   "metadata": {},
   "source": [
    "#### Exercise 6 \n",
    "\n",
    "Find the mean tip, per day, for male vs. female using multiple groupby"
   ]
  },
  {
   "cell_type": "code",
   "execution_count": null,
   "metadata": {},
   "outputs": [],
   "source": [
    "# Challenge\n",
    "\n"
   ]
  },
  {
   "cell_type": "markdown",
   "metadata": {
    "ein.tags": "worksheet-0",
    "id": "PxZKa_wqAICH"
   },
   "source": [
    "## Combining dataframes\n",
    "\n",
    "There are many ways to combine various dataframes into a new one, extending in many ways what we already saw for operations on series. The main (among various) ways of doing this are: \n",
    "\n",
    "+ Concatenate: paste row-column-wise and taking action on NaNs\n",
    "    + This works more on the rectangular structure of the data \n",
    "+ Merge: combine dataframes using a common piece of information, e.g. a common column\n",
    "    + This works more as a database operation\n"
   ]
  },
  {
   "cell_type": "markdown",
   "metadata": {
    "ein.tags": "worksheet-0",
    "id": "KaaABfF-AICH"
   },
   "source": [
    "### Concatenate\n",
    "\n",
    "```python\n",
    "pd.concat([df1,df2,...], axis=0) \n",
    "```\n",
    "\n",
    "+ axis: 0 for pasting below, 1 for pasting on the side (order in list matters either way)\n",
    "\n",
    "\n",
    "\n",
    "What do you think will happen in the following case? \n",
    "\n",
    "```python\n",
    "df1 = pd.DataFrame({\"A\": pd.Series([1,2,3]), \"B\": pd.Series([4,5,6])})\n",
    "df2 = pd.DataFrame({\"A\": pd.Series([4]), \"C\": pd.Series([7])})\n",
    "pd.concat([df1,df2], axis=0)\n",
    "```\n",
    "\n",
    "\n",
    "\n",
    "\n"
   ]
  },
  {
   "cell_type": "code",
   "execution_count": null,
   "metadata": {
    "autoscroll": false,
    "colab": {
     "base_uri": "https://localhost:8080/",
     "height": 171
    },
    "ein.hycell": false,
    "ein.tags": "worksheet-0",
    "executionInfo": {
     "elapsed": 2300,
     "status": "ok",
     "timestamp": 1606738987509,
     "user": {
      "displayName": "Joan Verdú",
      "photoUrl": "https://lh3.googleusercontent.com/a-/AOh14Ghq6Zm9ACo3kD6kZhp6ZuWkYJqG_DQfPoIV1Ues=s64",
      "userId": "17893353067607712705"
     },
     "user_tz": -60
    },
    "id": "lXAfq6UAAICH",
    "outputId": "de8a3e3d-e0ce-435c-a1e9-32eaab7b3b2b"
   },
   "outputs": [],
   "source": [
    "# Concatenation is mostly used when the rows or columns are shared. \n",
    "# For example, you might have data with the same columns and want \n",
    "# to concatenate them on axis 0:\n",
    "# But note: what happened to the index? \n",
    "# We might want to reset it. \n",
    "\n",
    "df1 = pd.DataFrame({\"A\": pd.Series([1,2,3]), \"B\": pd.Series([4,5,6])})\n",
    "df2 = pd.DataFrame({\"A\": pd.Series([7]), \"B\": pd.Series([10])})\n",
    "pd.concat([df1,df2], axis=0)"
   ]
  },
  {
   "cell_type": "code",
   "execution_count": null,
   "metadata": {
    "autoscroll": false,
    "colab": {
     "base_uri": "https://localhost:8080/",
     "height": 141
    },
    "ein.hycell": false,
    "ein.tags": "worksheet-0",
    "executionInfo": {
     "elapsed": 2295,
     "status": "ok",
     "timestamp": 1606738987510,
     "user": {
      "displayName": "Joan Verdú",
      "photoUrl": "https://lh3.googleusercontent.com/a-/AOh14Ghq6Zm9ACo3kD6kZhp6ZuWkYJqG_DQfPoIV1Ues=s64",
      "userId": "17893353067607712705"
     },
     "user_tz": -60
    },
    "id": "zbl70G97AICH",
    "outputId": "cbfeb2e2-cba2-4d8c-e925-386826b0ce33"
   },
   "outputs": [],
   "source": [
    "# Similarly, you might have data with the same rows and different columns:\n",
    "\n",
    "df1 = pd.DataFrame({\"A\": pd.Series([1,2,3]), \"B\": pd.Series([4,5,6])})\n",
    "df2 = pd.DataFrame({\"B\": pd.Series([7,8,9]), \"C\": pd.Series([10,11,12])})\n",
    "pd.concat([df1,df2], axis=1)"
   ]
  },
  {
   "cell_type": "code",
   "execution_count": null,
   "metadata": {
    "autoscroll": false,
    "colab": {
     "base_uri": "https://localhost:8080/",
     "height": 141
    },
    "ein.hycell": false,
    "ein.tags": "worksheet-0",
    "executionInfo": {
     "elapsed": 2288,
     "status": "ok",
     "timestamp": 1606738987510,
     "user": {
      "displayName": "Joan Verdú",
      "photoUrl": "https://lh3.googleusercontent.com/a-/AOh14Ghq6Zm9ACo3kD6kZhp6ZuWkYJqG_DQfPoIV1Ues=s64",
      "userId": "17893353067607712705"
     },
     "user_tz": -60
    },
    "id": "mybJY74cAICH",
    "outputId": "03177b03-8300-4f76-d5d5-02985d3f8fcf"
   },
   "outputs": [],
   "source": [
    "# But note what happens if the rows do not align, and you concatenate on axis 1:\n",
    "\n",
    "df1 = pd.DataFrame({\"A\": pd.Series([1,2,3]), \"B\": pd.Series([4,5,6])})\n",
    "df2 = pd.DataFrame({\"B\": pd.Series([7]), \"C\": pd.Series([10])})\n",
    "pd.concat([df1,df2], axis=1)"
   ]
  },
  {
   "cell_type": "markdown",
   "metadata": {},
   "source": [
    "#### Exercise 7\n",
    "\n",
    "Investigate the other parameters of concat() and in particular \"join\" and \"ignore_index\".\n",
    "\n",
    "On the basis of those options from the dataframes df1, df2 defined above and just by using concat() create a dataframe that contains the first row of df1 and df2 aligned horizontally,  and rename the columns of the new dataframe as A,B,C,D"
   ]
  },
  {
   "cell_type": "code",
   "execution_count": null,
   "metadata": {},
   "outputs": [],
   "source": [
    "# Challenge\n",
    "\n"
   ]
  },
  {
   "cell_type": "markdown",
   "metadata": {
    "ein.tags": "worksheet-0",
    "id": "YbmzWgE7AICH"
   },
   "source": [
    "### Merge\n",
    "\n",
    "Merge is commonly used when your two dataframes must be connected and they do not share an index or columns such as when we concatenated. \n",
    "\n",
    "With merge we will connect two DataFrames on some common piece of information, e.g. a common column. The structure of the command is: \n",
    "\n",
    "```python\n",
    "pd.merge(leftdf, rightdf, how = \"inner\", on = , *keywds)  \n",
    "```\n",
    "\n",
    "+ \"on\" defines on what piece of information the DataFrames will merge.\n",
    "+ You can also define \"left_on\" and \"right_on\" separately if the columns are named differently\n",
    "+ There are four options for \"how\", the other important argument in merge:\n",
    "    + \"inner\": intersection of keys\n",
    "    + \"outer\": union of keys\n",
    "    + \"left\": use keys from left only\n",
    "    + \"right\": use keys from right only\n",
    "\n",
    "<img src=\"https://i.stack.imgur.com/hMKKt.jpg\">\n",
    "\n"
   ]
  },
  {
   "cell_type": "code",
   "execution_count": null,
   "metadata": {
    "autoscroll": false,
    "colab": {
     "base_uri": "https://localhost:8080/",
     "height": 141
    },
    "ein.hycell": false,
    "ein.tags": "worksheet-0",
    "executionInfo": {
     "elapsed": 2282,
     "status": "ok",
     "timestamp": 1606738987511,
     "user": {
      "displayName": "Joan Verdú",
      "photoUrl": "https://lh3.googleusercontent.com/a-/AOh14Ghq6Zm9ACo3kD6kZhp6ZuWkYJqG_DQfPoIV1Ues=s64",
      "userId": "17893353067607712705"
     },
     "user_tz": -60
    },
    "id": "d6B8WpS_AICH",
    "outputId": "a38731bb-bf86-413d-e087-e369b2e50ac7"
   },
   "outputs": [],
   "source": [
    "df1 = pd.DataFrame({\"A\": pd.Series([1,2,3]), \"B\": pd.Series([4,5,6])})\n",
    "df2 = pd.DataFrame({\"A\": pd.Series([4]), \"C\": pd.Series([7])})\n",
    "\n",
    "# Let's try merging\n",
    "\n",
    "pd.merge(df1,df2, how='left',on='A')"
   ]
  },
  {
   "cell_type": "markdown",
   "metadata": {
    "ein.tags": "worksheet-0",
    "id": "7BzT2lECAICH"
   },
   "source": [
    "## Working with non-rectangular data\n",
    "\n",
    "We mentioned in the beginning that Pandas is a library for working with rectangular data. \n",
    "\n",
    "What if your data is not rectangular? What does non-rectangular data look like? Very often our data might come in dictionaries. Imagine data about a \"tweet\". It might look like this: \n",
    "\n",
    "\n",
    "```python\n",
    "{\n",
    "    \"screenname\": \"tommy\",\n",
    "    \"id_str\": \"928374987\",\n",
    "    \"text\": \"Woah, pandas is so much fun #worldrocked #jawdrop #win\",\n",
    "    \"hashtags\": [\"worldrocked\", \"jawdrop\", \"win\"]\n",
    "}\n",
    "```\n",
    "\n",
    "How would you fit this into a rectangular data format? Do the \"hashtags\" cause a problem? "
   ]
  },
  {
   "cell_type": "code",
   "execution_count": null,
   "metadata": {
    "autoscroll": false,
    "colab": {
     "base_uri": "https://localhost:8080/",
     "height": 106
    },
    "ein.hycell": false,
    "ein.tags": "worksheet-0",
    "executionInfo": {
     "elapsed": 2276,
     "status": "ok",
     "timestamp": 1606738987511,
     "user": {
      "displayName": "Joan Verdú",
      "photoUrl": "https://lh3.googleusercontent.com/a-/AOh14Ghq6Zm9ACo3kD6kZhp6ZuWkYJqG_DQfPoIV1Ues=s64",
      "userId": "17893353067607712705"
     },
     "user_tz": -60
    },
    "id": "kkvNVniOAICH",
    "outputId": "bfa3393d-e9bb-4293-98f6-0d8410ee6429"
   },
   "outputs": [],
   "source": [
    "raw_tweets = [{ \"screenname\": \"tommy\",\n",
    "          \"id_str\": \"928374987\",\n",
    "          \"text\": \"Woah, pandas is so much fun #worldrocked #jawdrop #ml\",\n",
    "          \"hashtags\": [\"worldrocked\", \"jawdrop\", \"ml\"]},\n",
    "          {\"screenname\": \"om\",\n",
    "           \"id_str\": \"928214039\",\n",
    "           \"text\": \"I eat linear models for breakfast #datascience #ml #crossfit\",\n",
    "           \"hashtags\": [\"ml\", \"crossfit\"]}]\n",
    "\n",
    "tweets = pd.DataFrame(raw_tweets)\n",
    "\n",
    "# What is the \"hashtag\" column made of? \n",
    "tweets"
   ]
  },
  {
   "cell_type": "markdown",
   "metadata": {
    "ein.tags": "worksheet-0",
    "id": "VqCEwGVNAICH"
   },
   "source": [
    "## Merge keeps the data flat\n",
    "\n",
    "The correct way to use data such as this in pandas, data with nested lists, is to copy each tweet to multiple rows, one row for each hashtag. \n",
    "\n",
    "We can use \"merge\" to do this for us automatically if we put the data into two separate dataframes, one for the hashtags and one for the rest of the tweets. This is called \"normalized form\" and is often how you will find data if you get it from a SQL database: "
   ]
  },
  {
   "cell_type": "code",
   "execution_count": null,
   "metadata": {
    "autoscroll": false,
    "colab": {
     "base_uri": "https://localhost:8080/",
     "height": 106
    },
    "ein.hycell": false,
    "ein.tags": "worksheet-0",
    "executionInfo": {
     "elapsed": 2269,
     "status": "ok",
     "timestamp": 1606738987511,
     "user": {
      "displayName": "Joan Verdú",
      "photoUrl": "https://lh3.googleusercontent.com/a-/AOh14Ghq6Zm9ACo3kD6kZhp6ZuWkYJqG_DQfPoIV1Ues=s64",
      "userId": "17893353067607712705"
     },
     "user_tz": -60
    },
    "id": "FAQRfLWmAICH",
    "outputId": "0e389b67-b714-4fc8-fc59-3cd64361b851"
   },
   "outputs": [],
   "source": [
    "tweets = pd.DataFrame(raw_tweets, columns = [\"screenname\", \"id_str\", \"text\"])\n",
    "tweets"
   ]
  },
  {
   "cell_type": "code",
   "execution_count": null,
   "metadata": {
    "autoscroll": false,
    "colab": {
     "base_uri": "https://localhost:8080/",
     "height": 225
    },
    "ein.hycell": false,
    "ein.tags": "worksheet-0",
    "executionInfo": {
     "elapsed": 2266,
     "status": "ok",
     "timestamp": 1606738987512,
     "user": {
      "displayName": "Joan Verdú",
      "photoUrl": "https://lh3.googleusercontent.com/a-/AOh14Ghq6Zm9ACo3kD6kZhp6ZuWkYJqG_DQfPoIV1Ues=s64",
      "userId": "17893353067607712705"
     },
     "user_tz": -60
    },
    "id": "hzMOOtmkAICH",
    "outputId": "f0eb27a6-c204-4cb2-c89f-3f24e3571814"
   },
   "outputs": [],
   "source": [
    "tags_and_ids = [(t['id_str'], tag) \n",
    "                for t in raw_tweets \n",
    "                for tag in t['hashtags']]\n",
    "\n",
    "tags_and_ids"
   ]
  },
  {
   "cell_type": "code",
   "execution_count": null,
   "metadata": {
    "autoscroll": false,
    "colab": {
     "base_uri": "https://localhost:8080/",
     "height": 225
    },
    "ein.hycell": false,
    "ein.tags": "worksheet-0",
    "executionInfo": {
     "elapsed": 2266,
     "status": "ok",
     "timestamp": 1606738987512,
     "user": {
      "displayName": "Joan Verdú",
      "photoUrl": "https://lh3.googleusercontent.com/a-/AOh14Ghq6Zm9ACo3kD6kZhp6ZuWkYJqG_DQfPoIV1Ues=s64",
      "userId": "17893353067607712705"
     },
     "user_tz": -60
    },
    "id": "hzMOOtmkAICH",
    "outputId": "f0eb27a6-c204-4cb2-c89f-3f24e3571814"
   },
   "outputs": [],
   "source": [
    "hashtags = pd.DataFrame(tags_and_ids, columns = ['id_str', 'hashtag'])\n",
    "\n",
    "hashtags"
   ]
  },
  {
   "cell_type": "markdown",
   "metadata": {},
   "source": [
    "#### In-class exercise: \n",
    "\n",
    "Put the two separate dataframes together. We will opt for the \"long\" format"
   ]
  },
  {
   "cell_type": "code",
   "execution_count": null,
   "metadata": {
    "autoscroll": false,
    "colab": {
     "base_uri": "https://localhost:8080/",
     "height": 225
    },
    "ein.hycell": false,
    "ein.tags": "worksheet-0",
    "executionInfo": {
     "elapsed": 2258,
     "status": "ok",
     "timestamp": 1606738987512,
     "user": {
      "displayName": "Joan Verdú",
      "photoUrl": "https://lh3.googleusercontent.com/a-/AOh14Ghq6Zm9ACo3kD6kZhp6ZuWkYJqG_DQfPoIV1Ues=s64",
      "userId": "17893353067607712705"
     },
     "user_tz": -60
    },
    "id": "vXuqQu-_AICH",
    "outputId": "f440bb4b-ea70-45e4-8fc2-cccd5a6ec345"
   },
   "outputs": [],
   "source": [
    "# Challenge\n",
    "\n",
    "# notice that this is particularly relevant when different nr of hastags are used \n",
    "# for different tweets, as is often the case\n",
    "\n",
    "\n",
    "df = tweets.merge(hashtags,on=\"id_str\", how=\"left\")\n",
    "df\n",
    "\n"
   ]
  },
  {
   "cell_type": "markdown",
   "metadata": {},
   "source": [
    "#### Exercise 8\n",
    "\n",
    "Read about long vs wide format for representing datasets. This is of relevance to statistical methods as well. Start from example from here: \n",
    "\n",
    "https://en.wikipedia.org/wiki/Wide_and_narrow_data\n",
    "\n"
   ]
  },
  {
   "cell_type": "markdown",
   "metadata": {
    "ein.tags": "worksheet-0",
    "id": "q-8TnxTaAICH"
   },
   "source": [
    "## In-class  programming project: Customer of the month\n",
    "\n",
    "**(finish at home if insufficient time in class)**\n",
    "\n",
    "\n",
    "- We have a list of prices for certain products given in the file \"supermarket_prices.csv\"\n",
    "- We have a list of transactions from certain customers in a period of a month given in \"supermarket_transactions.csv\"\n",
    "\n",
    "The aims in this information retrieval project is to calculate\n",
    "- How many items each client has purchased\n",
    "- How many items of each type each client has purchased\n",
    "- The total amount spent by each client\n",
    "\n",
    "On the basis of these analyses we wish to carry out the following marketing tasks: \n",
    "\n",
    "- The company that provides the supermarket with bananas wishes to give a prize to the client that has spent the largest proportion of their spending on bananas. Who should win the prize? \n",
    "- A marketing company that works with the supermarket is interested to understand better the characteristics of the three people that have spent most of their spending on bananas. For each one of them report the other product that they have spent most of their remaining income on\n",
    "\n",
    "*Needless to say that eyeballing is OK for making sure your code makes sense, but should not be a way to solve such problems.  We want a fully automated code. To carry out the project successfully you need to use most the attributes and methods described earlier. The last one is a little tricky* \n",
    "\n",
    "We will address these tasks one-by-one"
   ]
  },
  {
   "cell_type": "code",
   "execution_count": null,
   "metadata": {},
   "outputs": [],
   "source": [
    "# Load the data and save as df\n",
    "\n",
    "prices = pd.read_csv('https://datasciencebocconi.github.io/Data/supermarket_prices.csv')\n",
    "transactions = pd.read_csv('https://datasciencebocconi.github.io/Data/supermarket_transactions.csv')\n"
   ]
  },
  {
   "cell_type": "code",
   "execution_count": null,
   "metadata": {},
   "outputs": [],
   "source": [
    "prices.head(5)"
   ]
  },
  {
   "cell_type": "code",
   "execution_count": null,
   "metadata": {},
   "outputs": [],
   "source": [
    "transactions.head(5)"
   ]
  },
  {
   "cell_type": "code",
   "execution_count": null,
   "metadata": {},
   "outputs": [],
   "source": [
    "# How many items each client has purchased\n",
    "\n"
   ]
  },
  {
   "cell_type": "code",
   "execution_count": null,
   "metadata": {},
   "outputs": [],
   "source": [
    "# How many items of each type each client has purchased\n",
    "\n"
   ]
  },
  {
   "cell_type": "code",
   "execution_count": null,
   "metadata": {},
   "outputs": [],
   "source": [
    "# The total amount spent by each client\n",
    "\n",
    "# here we need to merge the datasets to combine quantities with prices\n",
    "# We should also do it in a way that removes redundnacies, hence for each client we have for \n",
    "# each item the total quantities bought and the total price paid for that item"
   ]
  },
  {
   "cell_type": "code",
   "execution_count": null,
   "metadata": {},
   "outputs": [],
   "source": [
    "# first create a df from the groupby operation with totals for each quantity\n",
    "# experiment with reset_index !\n",
    "# reset index gives a long format of the result of the groupby \n",
    "\n"
   ]
  },
  {
   "cell_type": "code",
   "execution_count": null,
   "metadata": {
    "scrolled": true
   },
   "outputs": [],
   "source": [
    "# We can now merge this with the prices dataset and define the total \n",
    "# price per item - call the new column \"Spent\"\n",
    "\n",
    "# \"how\" matters here! changes the organization of the dataframe,\n",
    "# try left and right\n",
    "\n",
    "#call it transaction_prices and add a column \"Spent\" with the total per item\n",
    "\n"
   ]
  },
  {
   "cell_type": "code",
   "execution_count": null,
   "metadata": {},
   "outputs": [],
   "source": []
  },
  {
   "cell_type": "code",
   "execution_count": null,
   "metadata": {},
   "outputs": [],
   "source": [
    "# Find the total amount spent by each customer\n",
    "\n"
   ]
  },
  {
   "cell_type": "code",
   "execution_count": null,
   "metadata": {},
   "outputs": [],
   "source": [
    "# Find the total amount spent by each customer on each product\n",
    "\n"
   ]
  },
  {
   "cell_type": "code",
   "execution_count": null,
   "metadata": {},
   "outputs": [],
   "source": [
    "# Try now to create a new column that contains the perc of money spent on \n",
    "# each item for each customer\n",
    "# You might want to create some intermediate df's "
   ]
  },
  {
   "cell_type": "code",
   "execution_count": null,
   "metadata": {},
   "outputs": [],
   "source": [
    "# The company that provides the supermarket with bananas wishes to give a \n",
    "# prize to the client that has spent the largest proportion of their spending on bananas. \n",
    "# Who should win the prize?\n",
    "\n"
   ]
  },
  {
   "cell_type": "code",
   "execution_count": null,
   "metadata": {},
   "outputs": [],
   "source": [
    "# A marketing company that works with the supermarket is interested to understand \n",
    "# better the characteristics of the three people that have spent most of their \n",
    "# spending on bananas. For each one of them report the other product that they have \n",
    "# spent most of their remaining income on"
   ]
  },
  {
   "cell_type": "markdown",
   "metadata": {},
   "source": [
    "This is an example of very untidy data!!!\n",
    "\n",
    "I call the variable Spent and spent in the two approaches - this took me 1 hour to debug! I only kept this silly approach for future lessons.."
   ]
  },
  {
   "cell_type": "code",
   "execution_count": null,
   "metadata": {},
   "outputs": [],
   "source": []
  }
 ],
 "metadata": {
  "colab": {
   "collapsed_sections": [
    "2NSCIvnUAICF",
    "ZEboHC67AICF",
    "-_HgLjbhAICF",
    "OTW-uaDSAICG",
    "wegFzGuXAICG",
    "HU9RGAG5AICG",
    "Tvuy0THbAICG",
    "f3oa-VL1AICG",
    "ZMK745KvAICG",
    "vL_V-Y33AICG",
    "SzPg-A1YAICH",
    "31TRVSrqAICH",
    "1qdJ-fb3AICH",
    "PxZKa_wqAICH",
    "KaaABfF-AICH",
    "YbmzWgE7AICH",
    "7BzT2lECAICH",
    "VqCEwGVNAICH",
    "q-8TnxTaAICH"
   ],
   "name": "pandas_tutorcopy.ipynb",
   "provenance": [],
   "toc_visible": true
  },
  "kernelspec": {
   "display_name": "Python 3",
   "language": "python",
   "name": "python3"
  },
  "language_info": {
   "codemirror_mode": {
    "name": "ipython",
    "version": 3
   },
   "file_extension": ".py",
   "mimetype": "text/x-python",
   "name": "python",
   "nbconvert_exporter": "python",
   "pygments_lexer": "ipython3",
   "version": "3.8.8"
  },
  "name": "pandas.ipynb",
  "toc": {
   "base_numbering": 1,
   "nav_menu": {},
   "number_sections": false,
   "sideBar": true,
   "skip_h1_title": true,
   "title_cell": "Table of Contents",
   "title_sidebar": "Contents",
   "toc_cell": false,
   "toc_position": {},
   "toc_section_display": true,
   "toc_window_display": true
  }
 },
 "nbformat": 4,
 "nbformat_minor": 1
}
